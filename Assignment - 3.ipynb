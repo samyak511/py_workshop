{
 "cells": [
  {
   "cell_type": "markdown",
   "metadata": {},
   "source": [
    "## Module 1: OOP"
   ]
  },
  {
   "cell_type": "code",
   "execution_count": 14,
   "metadata": {},
   "outputs": [],
   "source": [
    "# Problem: Design classes where one is parent & other is child. let child call the parent method. [2 Points]\n",
    "class Parent:\n",
    "     def run_parent_method(self):\n",
    "        return \"This is parent method\"\n",
    "\n",
    "class Child(Parent):\n",
    "   \n",
    "    def run_child_method(self):\n",
    "        return \"This is child method\"\n",
    "def main():\n",
    "    Child().run_parent_method()\n",
    "    Child().run_child_method()\n",
    "    \n",
    "assert Child().run_parent_method() == \"This is parent method\"\n",
    "assert Child().run_child_method() == \"This is child method\""
   ]
  },
  {
   "cell_type": "code",
   "execution_count": 15,
   "metadata": {},
   "outputs": [],
   "source": [
    "# Problem: add private varible for unique id that stores genearted uuid.\n",
    "#          write mechanism to access that variable for class instance object.\n",
    "#          you can use `str(uuid.uuid4())` to generate uuid    [4 Points]\n",
    "import uuid\n",
    "\n",
    "class Employee:\n",
    "    \n",
    "    def __init__(self, name, birth_year):\n",
    "        self.__id=str(uuid.uuid1())\n",
    "        self.name = name\n",
    "        self.birth_year = birth_year\n",
    "    def getid(self):\n",
    "            return self.__id\n",
    "    \n",
    "\n",
    "emp = Employee(\"Foo\", 1998)\n",
    "generated_uuid = emp.getid() # replace NoImplemented with provate variable\n",
    "assert isinstance(generated_uuid, str)"
   ]
  },
  {
   "cell_type": "markdown",
   "metadata": {},
   "source": [
    "## Module 2: Iterables"
   ]
  },
  {
   "cell_type": "code",
   "execution_count": 16,
   "metadata": {},
   "outputs": [],
   "source": [
    "# Problem: Implement __iter__() and next() method for following class [6 Points]\n",
    "class SquareIterator:\n",
    "    \n",
    "    def __init__(self, limit):\n",
    "        self.limit = limit\n",
    "        self.n = 0\n",
    "    \n",
    "    def __iter__(self):\n",
    "        return self\n",
    "    \n",
    "    # for python3 compatibility\n",
    "    def __next__(self):\n",
    "        return self.next()\n",
    "   \n",
    "\n",
    "    def next(self):\n",
    "        if self.n < self.limit:\n",
    "            result = self.n**2\n",
    "            self.n += 1\n",
    "            return result\n",
    "        else:\n",
    "            raise StopIteration\n",
    "        \n",
    "sq_itr1 = SquareIterator(5)\n",
    "assert list(sq_itr1) == [0, 1, 4, 9, 16]\n",
    "\n",
    "sq_itr1 = SquareIterator(101)\n",
    "assert sum(sq_itr1) == 338350"
   ]
  },
  {
   "cell_type": "code",
   "execution_count": 21,
   "metadata": {},
   "outputs": [
    {
     "name": "stdout",
     "output_type": "stream",
     "text": [
      "4\n",
      "('Rahul', 1122)\n"
     ]
    },
    {
     "ename": "AttributeError",
     "evalue": "'tuple' object has no attribute 'names'",
     "output_type": "error",
     "traceback": [
      "\u001b[1;31m---------------------------------------------------------------------------\u001b[0m",
      "\u001b[1;31mAttributeError\u001b[0m                            Traceback (most recent call last)",
      "\u001b[1;32m<ipython-input-21-59bcf2558bac>\u001b[0m in \u001b[0;36m<module>\u001b[1;34m\u001b[0m\n\u001b[0;32m     15\u001b[0m \u001b[1;33m\u001b[0m\u001b[0m\n\u001b[0;32m     16\u001b[0m \u001b[1;32massert\u001b[0m \u001b[0mlen\u001b[0m\u001b[1;33m(\u001b[0m\u001b[0mstudents\u001b[0m\u001b[1;33m)\u001b[0m \u001b[1;33m==\u001b[0m \u001b[1;36m4\u001b[0m\u001b[1;33m\u001b[0m\u001b[1;33m\u001b[0m\u001b[0m\n\u001b[1;32m---> 17\u001b[1;33m \u001b[1;32massert\u001b[0m \u001b[1;33m(\u001b[0m\u001b[0mstudents\u001b[0m\u001b[1;33m[\u001b[0m\u001b[1;36m0\u001b[0m\u001b[1;33m]\u001b[0m\u001b[1;33m.\u001b[0m\u001b[0mnames\u001b[0m\u001b[1;33m,\u001b[0m \u001b[0mstudents\u001b[0m\u001b[1;33m[\u001b[0m\u001b[1;36m0\u001b[0m\u001b[1;33m]\u001b[0m\u001b[1;33m.\u001b[0m\u001b[0menrollments\u001b[0m\u001b[1;33m)\u001b[0m \u001b[1;33m==\u001b[0m \u001b[1;33m(\u001b[0m\u001b[1;34m\"Rahul\"\u001b[0m\u001b[1;33m,\u001b[0m \u001b[1;36m1122\u001b[0m\u001b[1;33m)\u001b[0m\u001b[1;33m\u001b[0m\u001b[1;33m\u001b[0m\u001b[0m\n\u001b[0m",
      "\u001b[1;31mAttributeError\u001b[0m: 'tuple' object has no attribute 'names'"
     ]
    }
   ],
   "source": [
    "# Problem: Create student objects with provided list of name and enrollment id using Zip [4 Points]\n",
    "class Student:\n",
    "    \n",
    "    def __init__(self, data):\n",
    "        self.names=names\n",
    "        self.enrollments=enrollments\n",
    "\n",
    "names = [\"Rahul\", \"Shyam\", \"Krupa\", \"Aakash\"]\n",
    "enrollments = [1122, 2345, 1456, 2295]\n",
    "\n",
    "students=list(zip(names,enrollments))\n",
    "print(len(students))\n",
    "\n",
    "print(students[0])\n",
    "\n",
    "assert len(students) == 4\n",
    "assert (students[0].names, students[0].enrollments) == (\"Rahul\", 1122)"
   ]
  },
  {
   "cell_type": "markdown",
   "metadata": {},
   "source": [
    "## Module 3: Data Processing "
   ]
  },
  {
   "cell_type": "code",
   "execution_count": null,
   "metadata": {},
   "outputs": [],
   "source": [
    "! pip3 install numpy pandas"
   ]
  },
  {
   "cell_type": "code",
   "execution_count": 38,
   "metadata": {},
   "outputs": [],
   "source": [
    "import numpy as np\n",
    "np.random.seed(40)"
   ]
  },
  {
   "cell_type": "code",
   "execution_count": 8,
   "metadata": {
    "scrolled": true
   },
   "outputs": [
    {
     "name": "stdout",
     "output_type": "stream",
     "text": [
      "[[14985 13416  9094 10883  8605  6895  2567  2504  6988 13378  8633  7589\n",
      "  14560  9738  8658  7799 11851 11147 12328  1324]\n",
      " [ 4138   947 14119 11503 10861  2829  5369  2440 12177  4701  8130  7124\n",
      "  10667 13186 13723  6243  1444  5745  1958 10045]\n",
      " [10286  3280  9022 14120  8380  7596  8719  4638  9624  9880  5729  9487\n",
      "   6461   907  3241 11791 14732  5980 10787  8559]\n",
      " [ 3618  4234 14592  1360 13856  6020 14601  6987  6011 14388 11067 10239\n",
      "   2280  1176 10844  5656 10791  8964 12466  3489]\n",
      " [10043 11786  5083 11558  4244  6675  9034  2659  3626  9944 12341  9278\n",
      "  10189  8239  8764  3577 10273  4142 11531 10244]\n",
      " [13735 13060 13494  2186  8193  5044  4984  4196  5698  2489 13049  1063\n",
      "   3302  6645 11444  1348 14698 11496 13010  1133]\n",
      " [  958  8717 13278 12811  6966 10880 11750  6489 14719  9939 11299  1230\n",
      "  11388  2877 13653 12501  5891  5601  6545  2891]\n",
      " [ 3906 10282  3014  6980 10809 14737   624  5309  7775  5259  8348  2886\n",
      "   2625  8973  4415  1611  9474 14643  5737  6566]\n",
      " [ 6257 12641 10626 10098  4663  6632 11798  2724  2986  1002 12843 14566\n",
      "   2180  8132  6796  3096 13538 12530  7665  4447]\n",
      " [ 2170  8724 10972 10410  4784  5760  7949   910  3415 11865  1559  8413\n",
      "   1939 14835  3188 12933  5490 12035 10545 12066]\n",
      " [ 1835 10052 13743  5833  5378  9283  6793 14677  5116  1301  1443  6369\n",
      "   8692  7606  8609  7683 10340  2790  8264  2118]\n",
      " [ 8856 13252 14728  3539 12827  2365 10321 14569  8125 11407  2787 11145\n",
      "   6345  5683  1907  8111 13251  4828  8019 10874]\n",
      " [ 2682  5109 10102  4242  7003  1032  7559 12880  5118  5911  8030  8013\n",
      "   8260  2798  5361 14082  3180  2498  4931 12134]\n",
      " [ 9695  4107 10080  1537  1070 14661  8484 13799  2892  6040  9542  3705\n",
      "   4773  3957 12964 14160  2555  2831  8076  8095]\n",
      " [12335  4872 14989  5276 14172  3023  2863 11681  2371  8862 13391 14439\n",
      "    748 13198  5375   885 10678  8178 14131  7945]\n",
      " [10697 13037  3115 10127  6395 13566 10697  6132  8523  2782  3189 13695\n",
      "   9165 11124  5666 13150 10893 13930 10212  4305]\n",
      " [ 6349 13901  3856 13302  7917  2057  5364  3959  8839  2966  5391 14642\n",
      "  11938   576  4211  1021  6420 13983  9592 10225]\n",
      " [ 1544 13977  8174 11973  8101  2447  4087   796  6064  2032 12129 10358\n",
      "   4933  1007  8863  6121 14312  9535 11883  9149]\n",
      " [ 3487  1986 11236 13088 13276  4302  4609 14474  1002 11862  6947 14514\n",
      "   3648  5042  4664 10922 12750  7338  7448  3670]\n",
      " [ 4300 14380  2198  6559  1098  2486 14458  7856  3996  9812 10562  4217\n",
      "  13360  2055  6649 10678 13668  6769 10587 12523]\n",
      " [ 3122 14064  8049 12450 11399  1111 14233 10763  8303  1711  3657 11337\n",
      "  10971  7341 14537  4937  2234  9997  7957  1236]\n",
      " [ 3598  3477 11904 11420 11283 14292 13896  8211 14643  2606 10707  9603\n",
      "   5803  4623 14151  5678  6840  2532  3525   949]\n",
      " [  848 10316 14931  5378 13332   545  5946 14022 13700  4233 10566  1102\n",
      "   4852 11669  1688  6148  4176  8519  7851  3460]\n",
      " [ 5807  8831  4622  1497  8235  7272  9257 13184  3936 14452  5852 14875\n",
      "  14832 13711 12534 10998  3173  8302 13895  7388]\n",
      " [11577 10777 12223 11487  1917  5339  8953 11356 11814  4024  1477  9116\n",
      "   9813   742 13097 14468  3347  3737  7675  5192]\n",
      " [13499 12450  8105 12809 10882  4225  6801  7231  4808  5117  2228 13429\n",
      "  12569 12269 14265  8107   852  5010  4695  2012]\n",
      " [ 8786  2789 12275  1329  3602  8070  4873 11338  1067 11040 14027 10873\n",
      "  14187  5665 14246  4958   663 11377  9304  6331]\n",
      " [ 1675 10765 11477  5028 11896  5747  3410  9745  9231  7306 13562  8607\n",
      "  14326 11818  3424  5145  8988  9370 10019  1872]\n",
      " [ 5917 12807  7708 12838  9983  7815  4058  1560  3941 10072  8322  1307\n",
      "  13402 13685  1136  5399  7795 12971  3501  8554]\n",
      " [11529  7682  3277  7668  7306  7711  1796 10655  6177 11201  7642  7560\n",
      "  13165  9022 12039  7309  2656 13528  6877 13423]]\n"
     ]
    }
   ],
   "source": [
    "# Problem: create random integer numpy array with shape (30, 20) and values between 500 & 15000  [2 Points]\n",
    "import numpy as np\n",
    "np_array = np.random.randint(500,15000,size=(30,20))\n",
    "print(np_array)"
   ]
  },
  {
   "cell_type": "code",
   "execution_count": 9,
   "metadata": {},
   "outputs": [
    {
     "name": "stdout",
     "output_type": "stream",
     "text": [
      "min: 545\n",
      "max: 14989\n",
      "mean: 7880.1033333333335\n",
      "median: 8039.5\n",
      "stadard deviation: 4200.190311877414\n"
     ]
    }
   ],
   "source": [
    "# Problem: use the array created above an compute following: min, max, mean, median, stadard deviation [2 Points]\n",
    "\n",
    "print(\"min:\",np.min(np_array))\n",
    "print(\"max:\",np.max(np_array))\n",
    "print(\"mean:\",np.mean(np_array))\n",
    "print(\"median:\",np.median(np_array))\n",
    "print(\"stadard deviation:\",np.std(np_array))"
   ]
  },
  {
   "cell_type": "code",
   "execution_count": null,
   "metadata": {},
   "outputs": [],
   "source": [
    "# Problem: create pandas dataframe with three columns & seven rows. \n",
    "# Name, Age & Rating. Name: Person's name, Age: Person's age, Rating: credit rating out of 10    [3 Points]\n",
    "import pandas as pd\n",
    "\n",
    "df = NotImplemented"
   ]
  },
  {
   "cell_type": "code",
   "execution_count": null,
   "metadata": {},
   "outputs": [],
   "source": [
    "# use the abouve dataframe and answer following question\n",
    "# what is average age & rating in dataframe  [1 Points]\n",
    "# Give the name for people who has rating more than average [1 Points]\n",
    "# Give the name for person who is oldest [1 Points]"
   ]
  }
 ],
 "metadata": {
  "kernelspec": {
   "display_name": "Python 3",
   "language": "python",
   "name": "python3"
  },
  "language_info": {
   "codemirror_mode": {
    "name": "ipython",
    "version": 3
   },
   "file_extension": ".py",
   "mimetype": "text/x-python",
   "name": "python",
   "nbconvert_exporter": "python",
   "pygments_lexer": "ipython3",
   "version": "3.7.6"
  }
 },
 "nbformat": 4,
 "nbformat_minor": 4
}
